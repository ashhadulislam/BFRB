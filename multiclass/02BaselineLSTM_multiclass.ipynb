{
 "cells": [
  {
   "cell_type": "code",
   "execution_count": 1,
   "id": "c938704a-e4ce-4c20-95f6-2c85b4bf50b7",
   "metadata": {},
   "outputs": [
    {
     "name": "stdout",
     "output_type": "stream",
     "text": [
      "Imports loaded\n",
      "Loading sensor dataset …\n",
      "Loaded 574,945 rows of sensor frames\n",
      "Merging demographic attributes …\n"
     ]
    }
   ],
   "source": [
    "# Detect Behavior with Sensor Data – CNN + Bi-LSTM + Demographics\n",
    "# ------------------------------------------------------------------\n",
    "# This is a minimally-intrusive revision of your original notebook.\n",
    "# The only functional addition is that the seven demographic/anthro-\n",
    "# pometric columns from train_demographics.csv are merged onto every\n",
    "# row of the sensor frame and treated as extra numeric channels.\n",
    "# Nothing else in the pipeline changes, so you can reuse previous\n",
    "# hyper-parameters and checkpoints if desired.\n",
    "\n",
    "import os\n",
    "import numpy as np\n",
    "import pandas as pd\n",
    "from sklearn.model_selection import train_test_split\n",
    "from sklearn.preprocessing import StandardScaler, LabelEncoder\n",
    "from tensorflow.keras.models import Sequential, load_model\n",
    "from tensorflow.keras.layers import (\n",
    "    Conv1D, MaxPooling1D, Flatten, Dense, Dropout, BatchNormalization,\n",
    "    LSTM, Bidirectional, GlobalAveragePooling1D\n",
    ")\n",
    "from tensorflow.keras.utils import to_categorical\n",
    "from tensorflow.keras.preprocessing.sequence import pad_sequences\n",
    "from tensorflow.keras.optimizers import Adam\n",
    "from tensorflow.keras.callbacks import ReduceLROnPlateau, EarlyStopping\n",
    "import tensorflow as tf\n",
    "import polars as pl\n",
    "#import kaggle_evaluation.cmi_inference_server  # noqa: F401   | Kaggle runner hook\n",
    "\n",
    "print(\"Imports loaded\")\n",
    "\n",
    "# ------------------------------------------------------------------\n",
    "# 1.  LOAD TRAIN SENSOR DATA + DEMOGRAPHICS\n",
    "# ------------------------------------------------------------------\n",
    "print(\"Loading sensor dataset …\")\n",
    "root = '/Users/ashhadulislam/projects/general_data/CMI/ Detect Behavior with Sensor Data/cmi-detect-behavior-with-sensor-data/'\n",
    "\n",
    "df = pd.read_csv(f\"{root}/train.csv\")\n",
    "print(f\"Loaded {len(df):,} rows of sensor frames\")\n",
    "\n",
    "# --- NEW: merge participant demographics on the key `subject` --------\n",
    "print(\"Merging demographic attributes …\")\n",
    "demographics = pd.read_csv(f\"{root}/train_demographics.csv\")\n",
    "df = df.merge(demographics, on=\"subject\", how=\"left\")\n",
    "\n"
   ]
  },
  {
   "cell_type": "code",
   "execution_count": 2,
   "id": "b5b1e800-d944-47ad-a4a9-7f2190a7ffd7",
   "metadata": {},
   "outputs": [
    {
     "name": "stdout",
     "output_type": "stream",
     "text": [
      "Gesture label mapping:\n",
      "  0: Above ear - pull hair\n",
      "  1: Cheek - pinch skin\n",
      "  2: Drink from bottle/cup\n",
      "  3: Eyebrow - pull hair\n",
      "  4: Eyelash - pull hair\n",
      "  5: Feel around in tray and pull out an object\n",
      "  6: Forehead - pull hairline\n",
      "  7: Forehead - scratch\n",
      "  8: Glasses on/off\n",
      "  9: Neck - pinch skin\n",
      "  10: Neck - scratch\n",
      "  11: Pinch knee/leg skin\n",
      "  12: Pull air toward your face\n",
      "  13: Scratch knee/leg skin\n",
      "  14: Text on phone\n",
      "  15: Wave hello\n",
      "  16: Write name in air\n",
      "  17: Write name on leg\n"
     ]
    }
   ],
   "source": [
    "# ------------------------------------------------------------------\n",
    "# 2.  LABEL-ENCODE GESTURE TARGET\n",
    "# ------------------------------------------------------------------\n",
    "label_encoder = LabelEncoder()\n",
    "df[\"gesture\"] = label_encoder.fit_transform(df[\"gesture\"].astype(str))\n",
    "np.save(\"gesture_classes_multiclass.npy\", label_encoder.classes_)\n",
    "\n",
    "print(\"Gesture label mapping:\")\n",
    "for idx, lab in enumerate(label_encoder.classes_):\n",
    "    print(f\"  {idx}: {lab}\")\n"
   ]
  },
  {
   "cell_type": "code",
   "execution_count": 3,
   "id": "4f929160-adca-41c2-92a9-c29b7f6d3e30",
   "metadata": {},
   "outputs": [
    {
     "data": {
      "text/plain": [
       "array(['Above ear - pull hair', 'Cheek - pinch skin',\n",
       "       'Drink from bottle/cup', 'Eyebrow - pull hair',\n",
       "       'Eyelash - pull hair',\n",
       "       'Feel around in tray and pull out an object',\n",
       "       'Forehead - pull hairline', 'Forehead - scratch', 'Glasses on/off',\n",
       "       'Neck - pinch skin', 'Neck - scratch', 'Pinch knee/leg skin',\n",
       "       'Pull air toward your face', 'Scratch knee/leg skin',\n",
       "       'Text on phone', 'Wave hello', 'Write name in air',\n",
       "       'Write name on leg'], dtype=object)"
      ]
     },
     "execution_count": 3,
     "metadata": {},
     "output_type": "execute_result"
    }
   ],
   "source": [
    "label_encoder.classes_"
   ]
  },
  {
   "cell_type": "code",
   "execution_count": 4,
   "id": "7722948f-09f3-46a7-a15c-1ea064dfbbea",
   "metadata": {},
   "outputs": [
    {
     "name": "stdout",
     "output_type": "stream",
     "text": [
      "Using 339 feature columns for training, including demographics:\n",
      "['acc_x', 'acc_y', 'acc_z', 'adult_child', 'age', 'elbow_to_wrist_cm', 'handedness', 'height_cm', 'rot_w', 'rot_x', 'rot_y', 'rot_z', 'sex', 'shoulder_to_wrist_cm', 'thm_1'] …\n",
      "Total NaNs inside feature matrix: 3,597,807\n"
     ]
    }
   ],
   "source": [
    "\n",
    "# ------------------------------------------------------------------\n",
    "# 3.  FEATURE LIST CONSTRUCTION\n",
    "# ------------------------------------------------------------------\n",
    "# Optionally skip thermal/TOF values → set to False to use them.\n",
    "\n",
    "drop_thermal_and_tof = False\n",
    "\n",
    "excluded_cols = {\n",
    "    \"gesture\", \"sequence_type\", \"behavior\", \"orientation\",  # train-only targets\n",
    "    \"row_id\", \"subject\", \"phase\",                            # meta\n",
    "    \"sequence_id\", \"sequence_counter\"                         # ids\n",
    "}\n",
    "\n",
    "thermal_tof_cols = [c for c in df.columns if c.startswith((\"thm_\", \"tof_\"))]\n",
    "\n",
    "if drop_thermal_and_tof:\n",
    "    excluded_cols.update(thermal_tof_cols)\n",
    "    print(f\"Ignoring {len(thermal_tof_cols)} thermopile/TOF channels → set drop_thermal_and_tof=False to use them.\")\n",
    "\n",
    "# --- NEW: demographic numeric columns --------------------------------\n",
    "demographic_cols = [\n",
    "    \"adult_child\", \"age\", \"sex\", \"handedness\",\n",
    "    \"height_cm\", \"shoulder_to_wrist_cm\", \"elbow_to_wrist_cm\",\n",
    "]\n",
    "\n",
    "# Combine sensor + demographic feature list\n",
    "feature_cols = [c for c in df.columns if c not in excluded_cols]\n",
    "print(f\"Using {len(feature_cols)} feature columns for training, including demographics:\")\n",
    "print(sorted(feature_cols)[:15], \"…\")\n",
    "\n",
    "# Check missing values\n",
    "nan_total = df[feature_cols].isna().sum().sum()\n",
    "print(f\"Total NaNs inside feature matrix: {nan_total:,}\")"
   ]
  },
  {
   "cell_type": "code",
   "execution_count": 5,
   "id": "b6698c47-7e07-4d56-ae1f-5e633f0827af",
   "metadata": {},
   "outputs": [
    {
     "name": "stdout",
     "output_type": "stream",
     "text": [
      "Constructing padded tensor dataset …\n",
      "  processed 500 sequences …\n",
      "  processed 1000 sequences …\n",
      "  processed 1500 sequences …\n",
      "  processed 2000 sequences …\n",
      "  processed 2500 sequences …\n",
      "  processed 3000 sequences …\n",
      "  processed 3500 sequences …\n",
      "  processed 4000 sequences …\n",
      "  processed 4500 sequences …\n",
      "  processed 5000 sequences …\n",
      "  processed 5500 sequences …\n",
      "  processed 6000 sequences …\n",
      "  processed 6500 sequences …\n",
      "  processed 7000 sequences …\n",
      "  processed 7500 sequences …\n",
      "  processed 8000 sequences …\n",
      "90th-percentile length = 103 → fixed pad length chosen\n"
     ]
    }
   ],
   "source": [
    "# ------------------------------------------------------------------\n",
    "# 4.  SEQUENCE BUILDING HELPERS\n",
    "# ------------------------------------------------------------------\n",
    "\n",
    "def preprocess_sequence(df_seq: pd.DataFrame, feature_columns: list[str]) -> np.ndarray:\n",
    "    \"\"\"Fill→scale a *single* sequence dataframe and return float32 numpy.\"\"\"\n",
    "    data = df_seq[feature_columns].copy()\n",
    "    data = data.ffill().bfill().fillna(0.0)\n",
    "    scaled = StandardScaler().fit_transform(data)   # per-sequence scaler (unchanged)\n",
    "    return scaled.astype(\"float32\")\n",
    "\n",
    "print(\"Constructing padded tensor dataset …\")\n",
    "seq_groups = df.groupby(\"sequence_id\")\n",
    "\n",
    "X, seq_lengths = [], []\n",
    "for i, (_, seq) in enumerate(seq_groups):\n",
    "    if i and i % 500 == 0:\n",
    "        print(f\"  processed {i} sequences …\")\n",
    "    arr = preprocess_sequence(seq, feature_cols)\n",
    "    X.append(arr)\n",
    "    seq_lengths.append(arr.shape[0])\n",
    "\n",
    "pad_len = int(np.percentile(seq_lengths, 90))\n",
    "print(f\"90th-percentile length = {pad_len} → fixed pad length chosen\")\n",
    "np.save(\"sequence_maxlen.npy\", pad_len)\n",
    "\n"
   ]
  },
  {
   "cell_type": "code",
   "execution_count": 6,
   "id": "d6d084a4-4633-4206-80d8-93fe7c9b4c47",
   "metadata": {},
   "outputs": [
    {
     "data": {
      "text/plain": [
       "103"
      ]
     },
     "execution_count": 6,
     "metadata": {},
     "output_type": "execute_result"
    }
   ],
   "source": [
    "pad_len"
   ]
  },
  {
   "cell_type": "code",
   "execution_count": 7,
   "id": "416da8ec-63f6-4416-af46-64ec02a8fb0f",
   "metadata": {},
   "outputs": [
    {
     "name": "stdout",
     "output_type": "stream",
     "text": [
      "(8151, 103, 339) (8151, 18) (6520, 103, 339) (6520, 18) (1631, 103, 339) (1631, 18)\n"
     ]
    }
   ],
   "source": [
    "X = pad_sequences(X, maxlen=pad_len, dtype=\"float32\", padding=\"post\", truncating=\"post\")\n",
    "\n",
    "y = seq_groups[\"gesture\"].first().values\n",
    "num_classes = len(np.unique(y))\n",
    "y = to_categorical(y, num_classes=num_classes)\n",
    "\n",
    "# ------------------------------------------------------------------\n",
    "# 5.  TRAIN/VAL SPLIT & MODEL\n",
    "# ------------------------------------------------------------------\n",
    "X_train, X_val, y_train, y_val = train_test_split(\n",
    "    X, y, test_size=0.20, random_state=42, stratify=y\n",
    ")\n",
    "print(X.shape,y.shape,X_train.shape,y_train.shape,X_val.shape,y_val.shape)"
   ]
  },
  {
   "cell_type": "code",
   "execution_count": 14,
   "id": "401b3374-3415-4dfd-95a4-92f4fafaffa4",
   "metadata": {},
   "outputs": [
    {
     "data": {
      "text/plain": [
       "(6520, 18)"
      ]
     },
     "execution_count": 14,
     "metadata": {},
     "output_type": "execute_result"
    }
   ],
   "source": [
    "y_train.shape"
   ]
  },
  {
   "cell_type": "code",
   "execution_count": 9,
   "id": "b0dacb9e-9915-438e-9c6d-4823398ec36a",
   "metadata": {},
   "outputs": [
    {
     "name": "stdout",
     "output_type": "stream",
     "text": [
      "Building CNN-BiLSTM model …\n"
     ]
    },
    {
     "name": "stderr",
     "output_type": "stream",
     "text": [
      "/Users/ashhadulislam/miniconda3/envs/py310/lib/python3.10/site-packages/keras/src/layers/convolutional/base_conv.py:107: UserWarning: Do not pass an `input_shape`/`input_dim` argument to a layer. When using Sequential models, prefer using an `Input(shape)` object as the first layer in the model instead.\n",
      "  super().__init__(activity_regularizer=activity_regularizer, **kwargs)\n"
     ]
    }
   ],
   "source": [
    "print(\"Building CNN-BiLSTM model …\")\n",
    "model = Sequential([\n",
    "    Conv1D(64, 3, activation=\"relu\", input_shape=(pad_len, X_train.shape[2])),\n",
    "    BatchNormalization(),\n",
    "    Conv1D(64, 3, activation=\"relu\"),\n",
    "    MaxPooling1D(2),\n",
    "    Dropout(0.30),\n",
    "\n",
    "    Conv1D(128, 5, activation=\"relu\"),\n",
    "    BatchNormalization(),\n",
    "    Conv1D(128, 5, activation=\"relu\"),\n",
    "    MaxPooling1D(2),\n",
    "    Dropout(0.30),\n",
    "\n",
    "    Conv1D(256, 7, activation=\"relu\"),\n",
    "    BatchNormalization(),\n",
    "    Conv1D(256, 7, activation=\"relu\"),\n",
    "    MaxPooling1D(2),\n",
    "    Dropout(0.40),\n",
    "\n",
    "    Bidirectional(LSTM(128, return_sequences=True)),\n",
    "    Dropout(0.40),\n",
    "\n",
    "    GlobalAveragePooling1D(),\n",
    "\n",
    "    Dense(512, activation=\"relu\"),\n",
    "    BatchNormalization(),\n",
    "    Dropout(0.50),\n",
    "    Dense(256, activation=\"relu\"),\n",
    "    Dropout(0.30),\n",
    "\n",
    "    Dense(num_classes, activation=\"softmax\"),\n",
    "])\n"
   ]
  },
  {
   "cell_type": "code",
   "execution_count": 10,
   "id": "1113adf3-7927-4066-9370-4c2ef61d95a2",
   "metadata": {
    "scrolled": true
   },
   "outputs": [
    {
     "data": {
      "text/html": [
       "<pre style=\"white-space:pre;overflow-x:auto;line-height:normal;font-family:Menlo,'DejaVu Sans Mono',consolas,'Courier New',monospace\"><span style=\"font-weight: bold\">Model: \"sequential\"</span>\n",
       "</pre>\n"
      ],
      "text/plain": [
       "\u001b[1mModel: \"sequential\"\u001b[0m\n"
      ]
     },
     "metadata": {},
     "output_type": "display_data"
    },
    {
     "data": {
      "text/html": [
       "<pre style=\"white-space:pre;overflow-x:auto;line-height:normal;font-family:Menlo,'DejaVu Sans Mono',consolas,'Courier New',monospace\">┏━━━━━━━━━━━━━━━━━━━━━━━━━━━━━━━━━┳━━━━━━━━━━━━━━━━━━━━━━━━┳━━━━━━━━━━━━━━━┓\n",
       "┃<span style=\"font-weight: bold\"> Layer (type)                    </span>┃<span style=\"font-weight: bold\"> Output Shape           </span>┃<span style=\"font-weight: bold\">       Param # </span>┃\n",
       "┡━━━━━━━━━━━━━━━━━━━━━━━━━━━━━━━━━╇━━━━━━━━━━━━━━━━━━━━━━━━╇━━━━━━━━━━━━━━━┩\n",
       "│ conv1d (<span style=\"color: #0087ff; text-decoration-color: #0087ff\">Conv1D</span>)                 │ (<span style=\"color: #00d7ff; text-decoration-color: #00d7ff\">None</span>, <span style=\"color: #00af00; text-decoration-color: #00af00\">101</span>, <span style=\"color: #00af00; text-decoration-color: #00af00\">64</span>)        │        <span style=\"color: #00af00; text-decoration-color: #00af00\">65,152</span> │\n",
       "├─────────────────────────────────┼────────────────────────┼───────────────┤\n",
       "│ batch_normalization             │ (<span style=\"color: #00d7ff; text-decoration-color: #00d7ff\">None</span>, <span style=\"color: #00af00; text-decoration-color: #00af00\">101</span>, <span style=\"color: #00af00; text-decoration-color: #00af00\">64</span>)        │           <span style=\"color: #00af00; text-decoration-color: #00af00\">256</span> │\n",
       "│ (<span style=\"color: #0087ff; text-decoration-color: #0087ff\">BatchNormalization</span>)            │                        │               │\n",
       "├─────────────────────────────────┼────────────────────────┼───────────────┤\n",
       "│ conv1d_1 (<span style=\"color: #0087ff; text-decoration-color: #0087ff\">Conv1D</span>)               │ (<span style=\"color: #00d7ff; text-decoration-color: #00d7ff\">None</span>, <span style=\"color: #00af00; text-decoration-color: #00af00\">99</span>, <span style=\"color: #00af00; text-decoration-color: #00af00\">64</span>)         │        <span style=\"color: #00af00; text-decoration-color: #00af00\">12,352</span> │\n",
       "├─────────────────────────────────┼────────────────────────┼───────────────┤\n",
       "│ max_pooling1d (<span style=\"color: #0087ff; text-decoration-color: #0087ff\">MaxPooling1D</span>)    │ (<span style=\"color: #00d7ff; text-decoration-color: #00d7ff\">None</span>, <span style=\"color: #00af00; text-decoration-color: #00af00\">49</span>, <span style=\"color: #00af00; text-decoration-color: #00af00\">64</span>)         │             <span style=\"color: #00af00; text-decoration-color: #00af00\">0</span> │\n",
       "├─────────────────────────────────┼────────────────────────┼───────────────┤\n",
       "│ dropout (<span style=\"color: #0087ff; text-decoration-color: #0087ff\">Dropout</span>)               │ (<span style=\"color: #00d7ff; text-decoration-color: #00d7ff\">None</span>, <span style=\"color: #00af00; text-decoration-color: #00af00\">49</span>, <span style=\"color: #00af00; text-decoration-color: #00af00\">64</span>)         │             <span style=\"color: #00af00; text-decoration-color: #00af00\">0</span> │\n",
       "├─────────────────────────────────┼────────────────────────┼───────────────┤\n",
       "│ conv1d_2 (<span style=\"color: #0087ff; text-decoration-color: #0087ff\">Conv1D</span>)               │ (<span style=\"color: #00d7ff; text-decoration-color: #00d7ff\">None</span>, <span style=\"color: #00af00; text-decoration-color: #00af00\">45</span>, <span style=\"color: #00af00; text-decoration-color: #00af00\">128</span>)        │        <span style=\"color: #00af00; text-decoration-color: #00af00\">41,088</span> │\n",
       "├─────────────────────────────────┼────────────────────────┼───────────────┤\n",
       "│ batch_normalization_1           │ (<span style=\"color: #00d7ff; text-decoration-color: #00d7ff\">None</span>, <span style=\"color: #00af00; text-decoration-color: #00af00\">45</span>, <span style=\"color: #00af00; text-decoration-color: #00af00\">128</span>)        │           <span style=\"color: #00af00; text-decoration-color: #00af00\">512</span> │\n",
       "│ (<span style=\"color: #0087ff; text-decoration-color: #0087ff\">BatchNormalization</span>)            │                        │               │\n",
       "├─────────────────────────────────┼────────────────────────┼───────────────┤\n",
       "│ conv1d_3 (<span style=\"color: #0087ff; text-decoration-color: #0087ff\">Conv1D</span>)               │ (<span style=\"color: #00d7ff; text-decoration-color: #00d7ff\">None</span>, <span style=\"color: #00af00; text-decoration-color: #00af00\">41</span>, <span style=\"color: #00af00; text-decoration-color: #00af00\">128</span>)        │        <span style=\"color: #00af00; text-decoration-color: #00af00\">82,048</span> │\n",
       "├─────────────────────────────────┼────────────────────────┼───────────────┤\n",
       "│ max_pooling1d_1 (<span style=\"color: #0087ff; text-decoration-color: #0087ff\">MaxPooling1D</span>)  │ (<span style=\"color: #00d7ff; text-decoration-color: #00d7ff\">None</span>, <span style=\"color: #00af00; text-decoration-color: #00af00\">20</span>, <span style=\"color: #00af00; text-decoration-color: #00af00\">128</span>)        │             <span style=\"color: #00af00; text-decoration-color: #00af00\">0</span> │\n",
       "├─────────────────────────────────┼────────────────────────┼───────────────┤\n",
       "│ dropout_1 (<span style=\"color: #0087ff; text-decoration-color: #0087ff\">Dropout</span>)             │ (<span style=\"color: #00d7ff; text-decoration-color: #00d7ff\">None</span>, <span style=\"color: #00af00; text-decoration-color: #00af00\">20</span>, <span style=\"color: #00af00; text-decoration-color: #00af00\">128</span>)        │             <span style=\"color: #00af00; text-decoration-color: #00af00\">0</span> │\n",
       "├─────────────────────────────────┼────────────────────────┼───────────────┤\n",
       "│ conv1d_4 (<span style=\"color: #0087ff; text-decoration-color: #0087ff\">Conv1D</span>)               │ (<span style=\"color: #00d7ff; text-decoration-color: #00d7ff\">None</span>, <span style=\"color: #00af00; text-decoration-color: #00af00\">14</span>, <span style=\"color: #00af00; text-decoration-color: #00af00\">256</span>)        │       <span style=\"color: #00af00; text-decoration-color: #00af00\">229,632</span> │\n",
       "├─────────────────────────────────┼────────────────────────┼───────────────┤\n",
       "│ batch_normalization_2           │ (<span style=\"color: #00d7ff; text-decoration-color: #00d7ff\">None</span>, <span style=\"color: #00af00; text-decoration-color: #00af00\">14</span>, <span style=\"color: #00af00; text-decoration-color: #00af00\">256</span>)        │         <span style=\"color: #00af00; text-decoration-color: #00af00\">1,024</span> │\n",
       "│ (<span style=\"color: #0087ff; text-decoration-color: #0087ff\">BatchNormalization</span>)            │                        │               │\n",
       "├─────────────────────────────────┼────────────────────────┼───────────────┤\n",
       "│ conv1d_5 (<span style=\"color: #0087ff; text-decoration-color: #0087ff\">Conv1D</span>)               │ (<span style=\"color: #00d7ff; text-decoration-color: #00d7ff\">None</span>, <span style=\"color: #00af00; text-decoration-color: #00af00\">8</span>, <span style=\"color: #00af00; text-decoration-color: #00af00\">256</span>)         │       <span style=\"color: #00af00; text-decoration-color: #00af00\">459,008</span> │\n",
       "├─────────────────────────────────┼────────────────────────┼───────────────┤\n",
       "│ max_pooling1d_2 (<span style=\"color: #0087ff; text-decoration-color: #0087ff\">MaxPooling1D</span>)  │ (<span style=\"color: #00d7ff; text-decoration-color: #00d7ff\">None</span>, <span style=\"color: #00af00; text-decoration-color: #00af00\">4</span>, <span style=\"color: #00af00; text-decoration-color: #00af00\">256</span>)         │             <span style=\"color: #00af00; text-decoration-color: #00af00\">0</span> │\n",
       "├─────────────────────────────────┼────────────────────────┼───────────────┤\n",
       "│ dropout_2 (<span style=\"color: #0087ff; text-decoration-color: #0087ff\">Dropout</span>)             │ (<span style=\"color: #00d7ff; text-decoration-color: #00d7ff\">None</span>, <span style=\"color: #00af00; text-decoration-color: #00af00\">4</span>, <span style=\"color: #00af00; text-decoration-color: #00af00\">256</span>)         │             <span style=\"color: #00af00; text-decoration-color: #00af00\">0</span> │\n",
       "├─────────────────────────────────┼────────────────────────┼───────────────┤\n",
       "│ bidirectional (<span style=\"color: #0087ff; text-decoration-color: #0087ff\">Bidirectional</span>)   │ (<span style=\"color: #00d7ff; text-decoration-color: #00d7ff\">None</span>, <span style=\"color: #00af00; text-decoration-color: #00af00\">4</span>, <span style=\"color: #00af00; text-decoration-color: #00af00\">256</span>)         │       <span style=\"color: #00af00; text-decoration-color: #00af00\">394,240</span> │\n",
       "├─────────────────────────────────┼────────────────────────┼───────────────┤\n",
       "│ dropout_3 (<span style=\"color: #0087ff; text-decoration-color: #0087ff\">Dropout</span>)             │ (<span style=\"color: #00d7ff; text-decoration-color: #00d7ff\">None</span>, <span style=\"color: #00af00; text-decoration-color: #00af00\">4</span>, <span style=\"color: #00af00; text-decoration-color: #00af00\">256</span>)         │             <span style=\"color: #00af00; text-decoration-color: #00af00\">0</span> │\n",
       "├─────────────────────────────────┼────────────────────────┼───────────────┤\n",
       "│ global_average_pooling1d        │ (<span style=\"color: #00d7ff; text-decoration-color: #00d7ff\">None</span>, <span style=\"color: #00af00; text-decoration-color: #00af00\">256</span>)            │             <span style=\"color: #00af00; text-decoration-color: #00af00\">0</span> │\n",
       "│ (<span style=\"color: #0087ff; text-decoration-color: #0087ff\">GlobalAveragePooling1D</span>)        │                        │               │\n",
       "├─────────────────────────────────┼────────────────────────┼───────────────┤\n",
       "│ dense (<span style=\"color: #0087ff; text-decoration-color: #0087ff\">Dense</span>)                   │ (<span style=\"color: #00d7ff; text-decoration-color: #00d7ff\">None</span>, <span style=\"color: #00af00; text-decoration-color: #00af00\">512</span>)            │       <span style=\"color: #00af00; text-decoration-color: #00af00\">131,584</span> │\n",
       "├─────────────────────────────────┼────────────────────────┼───────────────┤\n",
       "│ batch_normalization_3           │ (<span style=\"color: #00d7ff; text-decoration-color: #00d7ff\">None</span>, <span style=\"color: #00af00; text-decoration-color: #00af00\">512</span>)            │         <span style=\"color: #00af00; text-decoration-color: #00af00\">2,048</span> │\n",
       "│ (<span style=\"color: #0087ff; text-decoration-color: #0087ff\">BatchNormalization</span>)            │                        │               │\n",
       "├─────────────────────────────────┼────────────────────────┼───────────────┤\n",
       "│ dropout_4 (<span style=\"color: #0087ff; text-decoration-color: #0087ff\">Dropout</span>)             │ (<span style=\"color: #00d7ff; text-decoration-color: #00d7ff\">None</span>, <span style=\"color: #00af00; text-decoration-color: #00af00\">512</span>)            │             <span style=\"color: #00af00; text-decoration-color: #00af00\">0</span> │\n",
       "├─────────────────────────────────┼────────────────────────┼───────────────┤\n",
       "│ dense_1 (<span style=\"color: #0087ff; text-decoration-color: #0087ff\">Dense</span>)                 │ (<span style=\"color: #00d7ff; text-decoration-color: #00d7ff\">None</span>, <span style=\"color: #00af00; text-decoration-color: #00af00\">256</span>)            │       <span style=\"color: #00af00; text-decoration-color: #00af00\">131,328</span> │\n",
       "├─────────────────────────────────┼────────────────────────┼───────────────┤\n",
       "│ dropout_5 (<span style=\"color: #0087ff; text-decoration-color: #0087ff\">Dropout</span>)             │ (<span style=\"color: #00d7ff; text-decoration-color: #00d7ff\">None</span>, <span style=\"color: #00af00; text-decoration-color: #00af00\">256</span>)            │             <span style=\"color: #00af00; text-decoration-color: #00af00\">0</span> │\n",
       "├─────────────────────────────────┼────────────────────────┼───────────────┤\n",
       "│ dense_2 (<span style=\"color: #0087ff; text-decoration-color: #0087ff\">Dense</span>)                 │ (<span style=\"color: #00d7ff; text-decoration-color: #00d7ff\">None</span>, <span style=\"color: #00af00; text-decoration-color: #00af00\">18</span>)             │         <span style=\"color: #00af00; text-decoration-color: #00af00\">4,626</span> │\n",
       "└─────────────────────────────────┴────────────────────────┴───────────────┘\n",
       "</pre>\n"
      ],
      "text/plain": [
       "┏━━━━━━━━━━━━━━━━━━━━━━━━━━━━━━━━━┳━━━━━━━━━━━━━━━━━━━━━━━━┳━━━━━━━━━━━━━━━┓\n",
       "┃\u001b[1m \u001b[0m\u001b[1mLayer (type)                   \u001b[0m\u001b[1m \u001b[0m┃\u001b[1m \u001b[0m\u001b[1mOutput Shape          \u001b[0m\u001b[1m \u001b[0m┃\u001b[1m \u001b[0m\u001b[1m      Param #\u001b[0m\u001b[1m \u001b[0m┃\n",
       "┡━━━━━━━━━━━━━━━━━━━━━━━━━━━━━━━━━╇━━━━━━━━━━━━━━━━━━━━━━━━╇━━━━━━━━━━━━━━━┩\n",
       "│ conv1d (\u001b[38;5;33mConv1D\u001b[0m)                 │ (\u001b[38;5;45mNone\u001b[0m, \u001b[38;5;34m101\u001b[0m, \u001b[38;5;34m64\u001b[0m)        │        \u001b[38;5;34m65,152\u001b[0m │\n",
       "├─────────────────────────────────┼────────────────────────┼───────────────┤\n",
       "│ batch_normalization             │ (\u001b[38;5;45mNone\u001b[0m, \u001b[38;5;34m101\u001b[0m, \u001b[38;5;34m64\u001b[0m)        │           \u001b[38;5;34m256\u001b[0m │\n",
       "│ (\u001b[38;5;33mBatchNormalization\u001b[0m)            │                        │               │\n",
       "├─────────────────────────────────┼────────────────────────┼───────────────┤\n",
       "│ conv1d_1 (\u001b[38;5;33mConv1D\u001b[0m)               │ (\u001b[38;5;45mNone\u001b[0m, \u001b[38;5;34m99\u001b[0m, \u001b[38;5;34m64\u001b[0m)         │        \u001b[38;5;34m12,352\u001b[0m │\n",
       "├─────────────────────────────────┼────────────────────────┼───────────────┤\n",
       "│ max_pooling1d (\u001b[38;5;33mMaxPooling1D\u001b[0m)    │ (\u001b[38;5;45mNone\u001b[0m, \u001b[38;5;34m49\u001b[0m, \u001b[38;5;34m64\u001b[0m)         │             \u001b[38;5;34m0\u001b[0m │\n",
       "├─────────────────────────────────┼────────────────────────┼───────────────┤\n",
       "│ dropout (\u001b[38;5;33mDropout\u001b[0m)               │ (\u001b[38;5;45mNone\u001b[0m, \u001b[38;5;34m49\u001b[0m, \u001b[38;5;34m64\u001b[0m)         │             \u001b[38;5;34m0\u001b[0m │\n",
       "├─────────────────────────────────┼────────────────────────┼───────────────┤\n",
       "│ conv1d_2 (\u001b[38;5;33mConv1D\u001b[0m)               │ (\u001b[38;5;45mNone\u001b[0m, \u001b[38;5;34m45\u001b[0m, \u001b[38;5;34m128\u001b[0m)        │        \u001b[38;5;34m41,088\u001b[0m │\n",
       "├─────────────────────────────────┼────────────────────────┼───────────────┤\n",
       "│ batch_normalization_1           │ (\u001b[38;5;45mNone\u001b[0m, \u001b[38;5;34m45\u001b[0m, \u001b[38;5;34m128\u001b[0m)        │           \u001b[38;5;34m512\u001b[0m │\n",
       "│ (\u001b[38;5;33mBatchNormalization\u001b[0m)            │                        │               │\n",
       "├─────────────────────────────────┼────────────────────────┼───────────────┤\n",
       "│ conv1d_3 (\u001b[38;5;33mConv1D\u001b[0m)               │ (\u001b[38;5;45mNone\u001b[0m, \u001b[38;5;34m41\u001b[0m, \u001b[38;5;34m128\u001b[0m)        │        \u001b[38;5;34m82,048\u001b[0m │\n",
       "├─────────────────────────────────┼────────────────────────┼───────────────┤\n",
       "│ max_pooling1d_1 (\u001b[38;5;33mMaxPooling1D\u001b[0m)  │ (\u001b[38;5;45mNone\u001b[0m, \u001b[38;5;34m20\u001b[0m, \u001b[38;5;34m128\u001b[0m)        │             \u001b[38;5;34m0\u001b[0m │\n",
       "├─────────────────────────────────┼────────────────────────┼───────────────┤\n",
       "│ dropout_1 (\u001b[38;5;33mDropout\u001b[0m)             │ (\u001b[38;5;45mNone\u001b[0m, \u001b[38;5;34m20\u001b[0m, \u001b[38;5;34m128\u001b[0m)        │             \u001b[38;5;34m0\u001b[0m │\n",
       "├─────────────────────────────────┼────────────────────────┼───────────────┤\n",
       "│ conv1d_4 (\u001b[38;5;33mConv1D\u001b[0m)               │ (\u001b[38;5;45mNone\u001b[0m, \u001b[38;5;34m14\u001b[0m, \u001b[38;5;34m256\u001b[0m)        │       \u001b[38;5;34m229,632\u001b[0m │\n",
       "├─────────────────────────────────┼────────────────────────┼───────────────┤\n",
       "│ batch_normalization_2           │ (\u001b[38;5;45mNone\u001b[0m, \u001b[38;5;34m14\u001b[0m, \u001b[38;5;34m256\u001b[0m)        │         \u001b[38;5;34m1,024\u001b[0m │\n",
       "│ (\u001b[38;5;33mBatchNormalization\u001b[0m)            │                        │               │\n",
       "├─────────────────────────────────┼────────────────────────┼───────────────┤\n",
       "│ conv1d_5 (\u001b[38;5;33mConv1D\u001b[0m)               │ (\u001b[38;5;45mNone\u001b[0m, \u001b[38;5;34m8\u001b[0m, \u001b[38;5;34m256\u001b[0m)         │       \u001b[38;5;34m459,008\u001b[0m │\n",
       "├─────────────────────────────────┼────────────────────────┼───────────────┤\n",
       "│ max_pooling1d_2 (\u001b[38;5;33mMaxPooling1D\u001b[0m)  │ (\u001b[38;5;45mNone\u001b[0m, \u001b[38;5;34m4\u001b[0m, \u001b[38;5;34m256\u001b[0m)         │             \u001b[38;5;34m0\u001b[0m │\n",
       "├─────────────────────────────────┼────────────────────────┼───────────────┤\n",
       "│ dropout_2 (\u001b[38;5;33mDropout\u001b[0m)             │ (\u001b[38;5;45mNone\u001b[0m, \u001b[38;5;34m4\u001b[0m, \u001b[38;5;34m256\u001b[0m)         │             \u001b[38;5;34m0\u001b[0m │\n",
       "├─────────────────────────────────┼────────────────────────┼───────────────┤\n",
       "│ bidirectional (\u001b[38;5;33mBidirectional\u001b[0m)   │ (\u001b[38;5;45mNone\u001b[0m, \u001b[38;5;34m4\u001b[0m, \u001b[38;5;34m256\u001b[0m)         │       \u001b[38;5;34m394,240\u001b[0m │\n",
       "├─────────────────────────────────┼────────────────────────┼───────────────┤\n",
       "│ dropout_3 (\u001b[38;5;33mDropout\u001b[0m)             │ (\u001b[38;5;45mNone\u001b[0m, \u001b[38;5;34m4\u001b[0m, \u001b[38;5;34m256\u001b[0m)         │             \u001b[38;5;34m0\u001b[0m │\n",
       "├─────────────────────────────────┼────────────────────────┼───────────────┤\n",
       "│ global_average_pooling1d        │ (\u001b[38;5;45mNone\u001b[0m, \u001b[38;5;34m256\u001b[0m)            │             \u001b[38;5;34m0\u001b[0m │\n",
       "│ (\u001b[38;5;33mGlobalAveragePooling1D\u001b[0m)        │                        │               │\n",
       "├─────────────────────────────────┼────────────────────────┼───────────────┤\n",
       "│ dense (\u001b[38;5;33mDense\u001b[0m)                   │ (\u001b[38;5;45mNone\u001b[0m, \u001b[38;5;34m512\u001b[0m)            │       \u001b[38;5;34m131,584\u001b[0m │\n",
       "├─────────────────────────────────┼────────────────────────┼───────────────┤\n",
       "│ batch_normalization_3           │ (\u001b[38;5;45mNone\u001b[0m, \u001b[38;5;34m512\u001b[0m)            │         \u001b[38;5;34m2,048\u001b[0m │\n",
       "│ (\u001b[38;5;33mBatchNormalization\u001b[0m)            │                        │               │\n",
       "├─────────────────────────────────┼────────────────────────┼───────────────┤\n",
       "│ dropout_4 (\u001b[38;5;33mDropout\u001b[0m)             │ (\u001b[38;5;45mNone\u001b[0m, \u001b[38;5;34m512\u001b[0m)            │             \u001b[38;5;34m0\u001b[0m │\n",
       "├─────────────────────────────────┼────────────────────────┼───────────────┤\n",
       "│ dense_1 (\u001b[38;5;33mDense\u001b[0m)                 │ (\u001b[38;5;45mNone\u001b[0m, \u001b[38;5;34m256\u001b[0m)            │       \u001b[38;5;34m131,328\u001b[0m │\n",
       "├─────────────────────────────────┼────────────────────────┼───────────────┤\n",
       "│ dropout_5 (\u001b[38;5;33mDropout\u001b[0m)             │ (\u001b[38;5;45mNone\u001b[0m, \u001b[38;5;34m256\u001b[0m)            │             \u001b[38;5;34m0\u001b[0m │\n",
       "├─────────────────────────────────┼────────────────────────┼───────────────┤\n",
       "│ dense_2 (\u001b[38;5;33mDense\u001b[0m)                 │ (\u001b[38;5;45mNone\u001b[0m, \u001b[38;5;34m18\u001b[0m)             │         \u001b[38;5;34m4,626\u001b[0m │\n",
       "└─────────────────────────────────┴────────────────────────┴───────────────┘\n"
      ]
     },
     "metadata": {},
     "output_type": "display_data"
    },
    {
     "data": {
      "text/html": [
       "<pre style=\"white-space:pre;overflow-x:auto;line-height:normal;font-family:Menlo,'DejaVu Sans Mono',consolas,'Courier New',monospace\"><span style=\"font-weight: bold\"> Total params: </span><span style=\"color: #00af00; text-decoration-color: #00af00\">1,554,898</span> (5.93 MB)\n",
       "</pre>\n"
      ],
      "text/plain": [
       "\u001b[1m Total params: \u001b[0m\u001b[38;5;34m1,554,898\u001b[0m (5.93 MB)\n"
      ]
     },
     "metadata": {},
     "output_type": "display_data"
    },
    {
     "data": {
      "text/html": [
       "<pre style=\"white-space:pre;overflow-x:auto;line-height:normal;font-family:Menlo,'DejaVu Sans Mono',consolas,'Courier New',monospace\"><span style=\"font-weight: bold\"> Trainable params: </span><span style=\"color: #00af00; text-decoration-color: #00af00\">1,552,978</span> (5.92 MB)\n",
       "</pre>\n"
      ],
      "text/plain": [
       "\u001b[1m Trainable params: \u001b[0m\u001b[38;5;34m1,552,978\u001b[0m (5.92 MB)\n"
      ]
     },
     "metadata": {},
     "output_type": "display_data"
    },
    {
     "data": {
      "text/html": [
       "<pre style=\"white-space:pre;overflow-x:auto;line-height:normal;font-family:Menlo,'DejaVu Sans Mono',consolas,'Courier New',monospace\"><span style=\"font-weight: bold\"> Non-trainable params: </span><span style=\"color: #00af00; text-decoration-color: #00af00\">1,920</span> (7.50 KB)\n",
       "</pre>\n"
      ],
      "text/plain": [
       "\u001b[1m Non-trainable params: \u001b[0m\u001b[38;5;34m1,920\u001b[0m (7.50 KB)\n"
      ]
     },
     "metadata": {},
     "output_type": "display_data"
    },
    {
     "name": "stdout",
     "output_type": "stream",
     "text": [
      "Training …\n",
      "Epoch 1/60\n",
      "\u001b[1m51/51\u001b[0m \u001b[32m━━━━━━━━━━━━━━━━━━━━\u001b[0m\u001b[37m\u001b[0m \u001b[1m5s\u001b[0m 62ms/step - accuracy: 0.0761 - loss: 3.5985 - val_accuracy: 0.0938 - val_loss: 2.8293 - learning_rate: 0.0010\n",
      "Epoch 2/60\n",
      "\u001b[1m51/51\u001b[0m \u001b[32m━━━━━━━━━━━━━━━━━━━━\u001b[0m\u001b[37m\u001b[0m \u001b[1m3s\u001b[0m 61ms/step - accuracy: 0.1427 - loss: 2.8639 - val_accuracy: 0.1907 - val_loss: 2.6611 - learning_rate: 0.0010\n",
      "Epoch 3/60\n",
      "\u001b[1m51/51\u001b[0m \u001b[32m━━━━━━━━━━━━━━━━━━━━\u001b[0m\u001b[37m\u001b[0m \u001b[1m4s\u001b[0m 70ms/step - accuracy: 0.1984 - loss: 2.5126 - val_accuracy: 0.2391 - val_loss: 2.4543 - learning_rate: 0.0010\n",
      "Epoch 4/60\n",
      "\u001b[1m51/51\u001b[0m \u001b[32m━━━━━━━━━━━━━━━━━━━━\u001b[0m\u001b[37m\u001b[0m \u001b[1m3s\u001b[0m 64ms/step - accuracy: 0.2375 - loss: 2.2902 - val_accuracy: 0.2679 - val_loss: 2.2539 - learning_rate: 0.0010\n",
      "Epoch 5/60\n",
      "\u001b[1m51/51\u001b[0m \u001b[32m━━━━━━━━━━━━━━━━━━━━\u001b[0m\u001b[37m\u001b[0m \u001b[1m3s\u001b[0m 62ms/step - accuracy: 0.2882 - loss: 2.0941 - val_accuracy: 0.2826 - val_loss: 2.0569 - learning_rate: 0.0010\n",
      "Epoch 6/60\n",
      "\u001b[1m51/51\u001b[0m \u001b[32m━━━━━━━━━━━━━━━━━━━━\u001b[0m\u001b[37m\u001b[0m \u001b[1m3s\u001b[0m 58ms/step - accuracy: 0.3063 - loss: 1.9775 - val_accuracy: 0.3348 - val_loss: 1.8816 - learning_rate: 0.0010\n",
      "Epoch 7/60\n",
      "\u001b[1m51/51\u001b[0m \u001b[32m━━━━━━━━━━━━━━━━━━━━\u001b[0m\u001b[37m\u001b[0m \u001b[1m3s\u001b[0m 60ms/step - accuracy: 0.3414 - loss: 1.8466 - val_accuracy: 0.3329 - val_loss: 1.8641 - learning_rate: 0.0010\n",
      "Epoch 8/60\n",
      "\u001b[1m51/51\u001b[0m \u001b[32m━━━━━━━━━━━━━━━━━━━━\u001b[0m\u001b[37m\u001b[0m \u001b[1m3s\u001b[0m 61ms/step - accuracy: 0.3769 - loss: 1.7096 - val_accuracy: 0.3409 - val_loss: 1.8756 - learning_rate: 0.0010\n",
      "Epoch 9/60\n",
      "\u001b[1m51/51\u001b[0m \u001b[32m━━━━━━━━━━━━━━━━━━━━\u001b[0m\u001b[37m\u001b[0m \u001b[1m3s\u001b[0m 62ms/step - accuracy: 0.3720 - loss: 1.6688 - val_accuracy: 0.3838 - val_loss: 1.7507 - learning_rate: 0.0010\n",
      "Epoch 10/60\n",
      "\u001b[1m51/51\u001b[0m \u001b[32m━━━━━━━━━━━━━━━━━━━━\u001b[0m\u001b[37m\u001b[0m \u001b[1m3s\u001b[0m 62ms/step - accuracy: 0.4236 - loss: 1.5362 - val_accuracy: 0.3942 - val_loss: 1.8024 - learning_rate: 0.0010\n",
      "Epoch 11/60\n",
      "\u001b[1m51/51\u001b[0m \u001b[32m━━━━━━━━━━━━━━━━━━━━\u001b[0m\u001b[37m\u001b[0m \u001b[1m3s\u001b[0m 62ms/step - accuracy: 0.4257 - loss: 1.5205 - val_accuracy: 0.3955 - val_loss: 1.8376 - learning_rate: 0.0010\n",
      "Epoch 12/60\n",
      "\u001b[1m51/51\u001b[0m \u001b[32m━━━━━━━━━━━━━━━━━━━━\u001b[0m\u001b[37m\u001b[0m \u001b[1m3s\u001b[0m 61ms/step - accuracy: 0.4712 - loss: 1.4065 - val_accuracy: 0.4188 - val_loss: 1.8624 - learning_rate: 0.0010\n",
      "Epoch 13/60\n",
      "\u001b[1m51/51\u001b[0m \u001b[32m━━━━━━━━━━━━━━━━━━━━\u001b[0m\u001b[37m\u001b[0m \u001b[1m0s\u001b[0m 57ms/step - accuracy: 0.4710 - loss: 1.3751\n",
      "Epoch 13: ReduceLROnPlateau reducing learning rate to 0.0005000000237487257.\n",
      "\u001b[1m51/51\u001b[0m \u001b[32m━━━━━━━━━━━━━━━━━━━━\u001b[0m\u001b[37m\u001b[0m \u001b[1m3s\u001b[0m 61ms/step - accuracy: 0.4710 - loss: 1.3753 - val_accuracy: 0.4280 - val_loss: 1.7735 - learning_rate: 0.0010\n",
      "Epoch 14/60\n",
      "\u001b[1m51/51\u001b[0m \u001b[32m━━━━━━━━━━━━━━━━━━━━\u001b[0m\u001b[37m\u001b[0m \u001b[1m3s\u001b[0m 56ms/step - accuracy: 0.5207 - loss: 1.2421 - val_accuracy: 0.4457 - val_loss: 1.7665 - learning_rate: 5.0000e-04\n",
      "Epoch 15/60\n",
      "\u001b[1m51/51\u001b[0m \u001b[32m━━━━━━━━━━━━━━━━━━━━\u001b[0m\u001b[37m\u001b[0m \u001b[1m3s\u001b[0m 58ms/step - accuracy: 0.5432 - loss: 1.1510 - val_accuracy: 0.4280 - val_loss: 1.7559 - learning_rate: 5.0000e-04\n",
      "Epoch 16/60\n",
      "\u001b[1m51/51\u001b[0m \u001b[32m━━━━━━━━━━━━━━━━━━━━\u001b[0m\u001b[37m\u001b[0m \u001b[1m3s\u001b[0m 57ms/step - accuracy: 0.5517 - loss: 1.1165 - val_accuracy: 0.4433 - val_loss: 1.7776 - learning_rate: 5.0000e-04\n",
      "Epoch 17/60\n",
      "\u001b[1m51/51\u001b[0m \u001b[32m━━━━━━━━━━━━━━━━━━━━\u001b[0m\u001b[37m\u001b[0m \u001b[1m0s\u001b[0m 53ms/step - accuracy: 0.5760 - loss: 1.0761\n",
      "Epoch 17: ReduceLROnPlateau reducing learning rate to 0.0002500000118743628.\n",
      "\u001b[1m51/51\u001b[0m \u001b[32m━━━━━━━━━━━━━━━━━━━━\u001b[0m\u001b[37m\u001b[0m \u001b[1m3s\u001b[0m 57ms/step - accuracy: 0.5759 - loss: 1.0762 - val_accuracy: 0.4464 - val_loss: 1.8863 - learning_rate: 5.0000e-04\n",
      "Epoch 17: early stopping\n",
      "Restoring model weights from the end of the best epoch: 9.\n"
     ]
    },
    {
     "data": {
      "text/plain": [
       "<keras.src.callbacks.history.History at 0x37a4cdfc0>"
      ]
     },
     "execution_count": 10,
     "metadata": {},
     "output_type": "execute_result"
    }
   ],
   "source": [
    "model.compile(optimizer=Adam(1e-3), loss=\"categorical_crossentropy\", metrics=[\"accuracy\"])\n",
    "model.summary()\n",
    "\n",
    "print(\"Training …\")\n",
    "callbacks = [\n",
    "    ReduceLROnPlateau(patience=4, factor=0.5, verbose=1),\n",
    "    EarlyStopping(patience=8, restore_best_weights=True, verbose=1)\n",
    "]\n",
    "model.fit(X_train, y_train, epochs=60, batch_size=128,\n",
    "          validation_data=(X_val, y_val), callbacks=callbacks)\n"
   ]
  },
  {
   "cell_type": "code",
   "execution_count": null,
   "id": "bc3af70e-bfdf-4634-b478-388b18335d12",
   "metadata": {},
   "outputs": [],
   "source": []
  },
  {
   "cell_type": "code",
   "execution_count": 11,
   "id": "0210c6fc-73cc-4f2a-8466-871e7f89028a",
   "metadata": {},
   "outputs": [
    {
     "name": "stderr",
     "output_type": "stream",
     "text": [
      "WARNING:absl:You are saving your model as an HDF5 file via `model.save()` or `keras.saving.save_model(model)`. This file format is considered legacy. We recommend using instead the native Keras format, e.g. `model.save('my_model.keras')` or `keras.saving.save_model(model, 'my_model.keras')`. \n"
     ]
    },
    {
     "name": "stdout",
     "output_type": "stream",
     "text": [
      "Training complete; model saved → gesture_cnn_model.h5\n"
     ]
    }
   ],
   "source": [
    "model.save(\"models/gesture_cnn_model.h5\")\n",
    "print(\"Training complete; model saved → gesture_cnn_model.h5\")\n"
   ]
  },
  {
   "cell_type": "code",
   "execution_count": null,
   "id": "98303fd6-ac70-4052-b495-60b78e652cbb",
   "metadata": {},
   "outputs": [],
   "source": []
  },
  {
   "cell_type": "code",
   "execution_count": 13,
   "id": "ed4b8084-973e-46b8-8b73-841aa1d8975b",
   "metadata": {},
   "outputs": [
    {
     "name": "stdout",
     "output_type": "stream",
     "text": [
      "Computing validation hierarchical-F1 …\n",
      "Estimated public-LB score on held-out fold: 0.6529\n"
     ]
    }
   ],
   "source": [
    "# ------------------------------------------------------------------\n",
    "# 6.  LOCAL VALIDATION METRIC\n",
    "# ------------------------------------------------------------------\n",
    "print(\"Computing validation hierarchical-F1 …\")\n",
    "from cmi_2025_metric_copy_for_import import CompetitionMetric  # local helper\n",
    "\n",
    "probs_val = model.predict(X_val, verbose=0)\n",
    "labels_val_pred = np.argmax(probs_val, axis=1)\n",
    "labels_val_true = np.argmax(y_val, axis=1)\n",
    "\n",
    "cls = np.load(\"gesture_classes_multiclass.npy\", allow_pickle=True)\n",
    "val_pred_df = pd.DataFrame({\"gesture\": [cls[i] for i in labels_val_pred]})\n",
    "val_true_df = pd.DataFrame({\"gesture\": [cls[i] for i in labels_val_true]})\n",
    "\n",
    "metric = CompetitionMetric()\n",
    "score = metric.calculate_hierarchical_f1(val_true_df, val_pred_df)\n",
    "print(f\"Estimated public-LB score on held-out fold: {score:.4f}\")"
   ]
  },
  {
   "cell_type": "code",
   "execution_count": null,
   "id": "4d1c37ec-b332-41ff-acf2-6b3fbca494a8",
   "metadata": {},
   "outputs": [],
   "source": [
    "# ------------------------------------------------------------------\n",
    "# 7.  INFERENCE HELPER\n",
    "# ------------------------------------------------------------------\n",
    "\n",
    "def predict(sequence: pl.DataFrame, demographics: pl.DataFrame) -> str:\n",
    "    \"\"\"Kaggle inference signature: returns predicted gesture string.\"\"\"\n",
    "    seq_df = sequence.to_pandas()\n",
    "    demo_df = demographics.to_pandas()\n",
    "    seq_df = seq_df.merge(demo_df, on=\"subject\", how=\"left\")\n",
    "\n",
    "    arr = preprocess_sequence(seq_df, feature_cols)\n",
    "    maxlen = int(np.load(\"sequence_maxlen.npy\"))\n",
    "    padded = pad_sequences([arr], maxlen=maxlen, dtype=\"float32\", padding=\"post\", truncating=\"post\")\n",
    "\n",
    "    mdl = load_model(\"gesture_cnn_model.h5\")\n",
    "    probs = mdl.predict(padded, verbose=0)\n",
    "    idx = int(np.argmax(probs, axis=1)[0])\n",
    "    classes = np.load(\"gesture_classes_multiclass.npy\", allow_pickle=True)\n",
    "    return str(classes[idx])"
   ]
  },
  {
   "cell_type": "code",
   "execution_count": null,
   "id": "d403a258-f92e-4d1a-8e1f-0ef52de2edce",
   "metadata": {},
   "outputs": [],
   "source": [
    "import kaggle_evaluation.cmi_inference_server  # noqa: F401   | Kaggle runner hook\n",
    "\n",
    "\n",
    "# Launch inference server\n",
    "inference_server = kaggle_evaluation.cmi_inference_server.CMIInferenceServer(predict)\n",
    "\n",
    "if os.getenv('KAGGLE_IS_COMPETITION_RERUN'):\n",
    "    inference_server.serve()\n",
    "else:\n",
    "    inference_server.run_local_gateway(\n",
    "        data_paths=(\n",
    "            '/kaggle/input/cmi-detect-behavior-with-sensor-data/test.csv',\n",
    "            '/kaggle/input/cmi-detect-behavior-with-sensor-data/test_demographics.csv',\n",
    "        )\n",
    "    )"
   ]
  },
  {
   "cell_type": "code",
   "execution_count": null,
   "id": "be60ce59-64a1-4986-9f0a-07819ce454b1",
   "metadata": {},
   "outputs": [],
   "source": [
    "predict"
   ]
  },
  {
   "cell_type": "code",
   "execution_count": null,
   "id": "488b3364-7758-4764-8000-e39606757d0b",
   "metadata": {},
   "outputs": [],
   "source": []
  }
 ],
 "metadata": {
  "kernelspec": {
   "display_name": "py310k",
   "language": "python",
   "name": "py310k"
  },
  "language_info": {
   "codemirror_mode": {
    "name": "ipython",
    "version": 3
   },
   "file_extension": ".py",
   "mimetype": "text/x-python",
   "name": "python",
   "nbconvert_exporter": "python",
   "pygments_lexer": "ipython3",
   "version": "3.10.16"
  }
 },
 "nbformat": 4,
 "nbformat_minor": 5
}
